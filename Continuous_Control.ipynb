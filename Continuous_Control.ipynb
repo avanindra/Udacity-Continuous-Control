{
 "cells": [
  {
   "cell_type": "markdown",
   "source": [
    "# Continuous Control\n",
    "\n",
    "---\n",
    "\n",
    "In this notebook, you will learn how to use the Unity ML-Agents environment for the second project of the [Deep Reinforcement Learning Nanodegree](https://www.udacity.com/course/deep-reinforcement-learning-nanodegree--nd893) program.\n",
    "\n",
    "### 1. Start the Environment\n",
    "\n",
    "We begin by importing the necessary packages.  If the code cell below returns an error, please revisit the project instructions to double-check that you have installed [Unity ML-Agents](https://github.com/Unity-Technologies/ml-agents/blob/master/docs/Installation.md) and [NumPy](http://www.numpy.org/)."
   ],
   "metadata": {}
  },
  {
   "cell_type": "code",
   "execution_count": 3,
   "source": [
    "from unityagents import UnityEnvironment\r\n",
    "import numpy as np"
   ],
   "outputs": [],
   "metadata": {}
  },
  {
   "cell_type": "markdown",
   "source": [
    "Next, we will start the environment!  **_Before running the code cell below_**, change the `file_name` parameter to match the location of the Unity environment that you downloaded.\n",
    "\n",
    "- **Mac**: `\"path/to/Reacher.app\"`\n",
    "- **Windows** (x86): `\"path/to/Reacher_Windows_x86/Reacher.exe\"`\n",
    "- **Windows** (x86_64): `\"path/to/Reacher_Windows_x86_64/Reacher.exe\"`\n",
    "- **Linux** (x86): `\"path/to/Reacher_Linux/Reacher.x86\"`\n",
    "- **Linux** (x86_64): `\"path/to/Reacher_Linux/Reacher.x86_64\"`\n",
    "- **Linux** (x86, headless): `\"path/to/Reacher_Linux_NoVis/Reacher.x86\"`\n",
    "- **Linux** (x86_64, headless): `\"path/to/Reacher_Linux_NoVis/Reacher.x86_64\"`\n",
    "\n",
    "For instance, if you are using a Mac, then you downloaded `Reacher.app`.  If this file is in the same folder as the notebook, then the line below should appear as follows:\n",
    "```\n",
    "env = UnityEnvironment(file_name=\"Reacher.app\")\n",
    "```"
   ],
   "metadata": {}
  },
  {
   "cell_type": "code",
   "execution_count": 4,
   "source": [
    "env = UnityEnvironment(file_name='C:/projects/deep-reinforcement-learning/p2_continuous-control/Reacher_Windows_x86_64/Reacher.exe')"
   ],
   "outputs": [
    {
     "output_type": "stream",
     "name": "stderr",
     "text": [
      "INFO:unityagents:\n",
      "'Academy' started successfully!\n",
      "Unity Academy name: Academy\n",
      "        Number of Brains: 1\n",
      "        Number of External Brains : 1\n",
      "        Lesson number : 0\n",
      "        Reset Parameters :\n",
      "\t\tgoal_speed -> 1.0\n",
      "\t\tgoal_size -> 5.0\n",
      "Unity brain name: ReacherBrain\n",
      "        Number of Visual Observations (per agent): 0\n",
      "        Vector Observation space type: continuous\n",
      "        Vector Observation space size (per agent): 33\n",
      "        Number of stacked Vector Observation: 1\n",
      "        Vector Action space type: continuous\n",
      "        Vector Action space size (per agent): 4\n",
      "        Vector Action descriptions: , , , \n"
     ]
    }
   ],
   "metadata": {}
  },
  {
   "cell_type": "markdown",
   "source": [
    "Environments contain **_brains_** which are responsible for deciding the actions of their associated agents. Here we check for the first brain available, and set it as the default brain we will be controlling from Python."
   ],
   "metadata": {}
  },
  {
   "cell_type": "code",
   "execution_count": 5,
   "source": [
    "# get the default brain\r\n",
    "brain_name = env.brain_names[0]\r\n",
    "brain = env.brains[brain_name]"
   ],
   "outputs": [],
   "metadata": {}
  },
  {
   "cell_type": "markdown",
   "source": [
    "### 2. Examine the State and Action Spaces\n",
    "\n",
    "In this environment, a double-jointed arm can move to target locations. A reward of `+0.1` is provided for each step that the agent's hand is in the goal location. Thus, the goal of your agent is to maintain its position at the target location for as many time steps as possible.\n",
    "\n",
    "The observation space consists of `33` variables corresponding to position, rotation, velocity, and angular velocities of the arm.  Each action is a vector with four numbers, corresponding to torque applicable to two joints.  Every entry in the action vector must be a number between `-1` and `1`.\n",
    "\n",
    "Run the code cell below to print some information about the environment."
   ],
   "metadata": {}
  },
  {
   "cell_type": "code",
   "execution_count": 6,
   "source": [
    "# reset the environment\r\n",
    "env_info = env.reset(train_mode=True)[brain_name]\r\n",
    "\r\n",
    "# number of agents\r\n",
    "num_agents = len(env_info.agents)\r\n",
    "print('Number of agents:', num_agents)\r\n",
    "\r\n",
    "# size of each action\r\n",
    "action_size = brain.vector_action_space_size\r\n",
    "print('Size of each action:', action_size)\r\n",
    "\r\n",
    "# examine the state space \r\n",
    "states = env_info.vector_observations\r\n",
    "state_size = states.shape[1]\r\n",
    "print('There are {} agents. Each observes a state with length: {}'.format(states.shape[0], state_size))\r\n",
    "print('The state for the first agent looks like:', states[0])"
   ],
   "outputs": [
    {
     "output_type": "stream",
     "name": "stdout",
     "text": [
      "Number of agents: 20\n",
      "Size of each action: 4\n",
      "There are 20 agents. Each observes a state with length: 33\n",
      "The state for the first agent looks like: [ 0.00000000e+00 -4.00000000e+00  0.00000000e+00  1.00000000e+00\n",
      " -0.00000000e+00 -0.00000000e+00 -4.37113883e-08  0.00000000e+00\n",
      "  0.00000000e+00  0.00000000e+00  0.00000000e+00  0.00000000e+00\n",
      "  0.00000000e+00  0.00000000e+00 -1.00000000e+01  0.00000000e+00\n",
      "  1.00000000e+00 -0.00000000e+00 -0.00000000e+00 -4.37113883e-08\n",
      "  0.00000000e+00  0.00000000e+00  0.00000000e+00  0.00000000e+00\n",
      "  0.00000000e+00  0.00000000e+00  5.75471878e+00 -1.00000000e+00\n",
      "  5.55726624e+00  0.00000000e+00  1.00000000e+00  0.00000000e+00\n",
      " -1.68164849e-01]\n"
     ]
    }
   ],
   "metadata": {}
  },
  {
   "cell_type": "markdown",
   "source": [
    "### 3. Take Random Actions in the Environment\n",
    "\n",
    "In the next code cell, you will learn how to use the Python API to control the agent and receive feedback from the environment.\n",
    "\n",
    "Once this cell is executed, you will watch the agent's performance, if it selects an action at random with each time step.  A window should pop up that allows you to observe the agent, as it moves through the environment.  \n",
    "\n",
    "Of course, as part of the project, you'll have to change the code so that the agent is able to use its experience to gradually choose better actions when interacting with the environment!"
   ],
   "metadata": {}
  },
  {
   "cell_type": "code",
   "execution_count": 7,
   "source": [
    "env_info = env.reset(train_mode=False)[brain_name]     # reset the environment    \r\n",
    "states = env_info.vector_observations                  # get the current state (for each agent)\r\n",
    "scores = np.zeros(num_agents)                          # initialize the score (for each agent)\r\n",
    "while True:\r\n",
    "    actions = np.random.randn(num_agents, action_size) # select an action (for each agent)\r\n",
    "    actions = np.clip(actions, -1, 1)                  # all actions between -1 and 1\r\n",
    "    env_info = env.step(actions)[brain_name]           # send all actions to tne environment\r\n",
    "    next_states = env_info.vector_observations         # get next state (for each agent)\r\n",
    "    rewards = env_info.rewards                         # get reward (for each agent)\r\n",
    "    dones = env_info.local_done                        # see if episode finished\r\n",
    "    scores += env_info.rewards                         # update the score (for each agent)\r\n",
    "    states = next_states                               # roll over states to next time step\r\n",
    "    if np.any(dones):                                  # exit loop if episode finished\r\n",
    "        break\r\n",
    "print('Total score (averaged over agents) this episode: {}'.format(np.mean(scores)))"
   ],
   "outputs": [
    {
     "output_type": "stream",
     "name": "stdout",
     "text": [
      "Total score (averaged over agents) this episode: 0.08349999813362956\n"
     ]
    }
   ],
   "metadata": {}
  },
  {
   "cell_type": "markdown",
   "source": [
    "When finished, you can close the environment."
   ],
   "metadata": {}
  },
  {
   "cell_type": "code",
   "execution_count": 8,
   "source": [
    "env.close()"
   ],
   "outputs": [],
   "metadata": {}
  },
  {
   "cell_type": "markdown",
   "source": [
    "### 4. It's Your Turn!\n",
    "\n",
    "Now it's your turn to train your own agent to solve the environment!  When training the environment, set `train_mode=True`, so that the line for resetting the environment looks like the following:\n",
    "```python\n",
    "env_info = env.reset(train_mode=True)[brain_name]\n",
    "```"
   ],
   "metadata": {}
  },
  {
   "cell_type": "code",
   "execution_count": 1,
   "source": [
    "from unityagents import UnityEnvironment\r\n",
    "import numpy as np\r\n",
    "import matplotlib.pyplot as plt \r\n",
    "import torch\r\n",
    "from collections import deque\r\n",
    "\r\n",
    "from ccagentmulti import Agent\r\n",
    "\r\n",
    "envpath = 'C:/projects/deep-reinforcement-learning/p2_continuous-control/Reacher_Windows_x86_64/Reacher.exe'\r\n",
    "\r\n",
    "DEVICE = torch.device(\"cuda:0\" if torch.cuda.is_available() else \"cpu\")\r\n",
    "\r\n",
    "env = UnityEnvironment(file_name = envpath)\r\n",
    "\r\n",
    "# get the default brain\r\n",
    "brain_name = env.brain_names[0]\r\n",
    "brain = env.brains[brain_name]\r\n",
    "\r\n",
    "\r\n",
    "# reset the environment\r\n",
    "env_info = env.reset(train_mode=True)[brain_name]\r\n",
    "# number of agents in the environment\r\n",
    "n_agents = len(env_info.agents)\r\n",
    "print('Number of agents:', n_agents)\r\n",
    "# number of actions\r\n",
    "action_size = brain.vector_action_space_size\r\n",
    "print('Number of actions:', action_size)\r\n",
    "# examine the state space \r\n",
    "state = env_info.vector_observations[0]\r\n",
    "print('States look like:', state)\r\n",
    "state_size = len(state)\r\n",
    "print('States have length:', state_size)\r\n",
    "\r\n",
    "agent = Agent(\r\n",
    "\t\t\t\t\tDEVICE, \r\n",
    "\t\t\t\t\tstate_size , n_agents, action_size , 4\r\n",
    "\t\t\t)"
   ],
   "outputs": [
    {
     "output_type": "stream",
     "name": "stderr",
     "text": [
      "INFO:unityagents:\n",
      "'Academy' started successfully!\n",
      "Unity Academy name: Academy\n",
      "        Number of Brains: 1\n",
      "        Number of External Brains : 1\n",
      "        Lesson number : 0\n",
      "        Reset Parameters :\n",
      "\t\tgoal_speed -> 1.0\n",
      "\t\tgoal_size -> 5.0\n",
      "Unity brain name: ReacherBrain\n",
      "        Number of Visual Observations (per agent): 0\n",
      "        Vector Observation space type: continuous\n",
      "        Vector Observation space size (per agent): 33\n",
      "        Number of stacked Vector Observation: 1\n",
      "        Vector Action space type: continuous\n",
      "        Vector Action space size (per agent): 4\n",
      "        Vector Action descriptions: , , , \n"
     ]
    },
    {
     "output_type": "stream",
     "name": "stdout",
     "text": [
      "Number of agents: 20\n",
      "Number of actions: 4\n",
      "States look like: [ 0.00000000e+00 -4.00000000e+00  0.00000000e+00  1.00000000e+00\n",
      " -0.00000000e+00 -0.00000000e+00 -4.37113883e-08  0.00000000e+00\n",
      "  0.00000000e+00  0.00000000e+00  0.00000000e+00  0.00000000e+00\n",
      "  0.00000000e+00  0.00000000e+00 -1.00000000e+01  0.00000000e+00\n",
      "  1.00000000e+00 -0.00000000e+00 -0.00000000e+00 -4.37113883e-08\n",
      "  0.00000000e+00  0.00000000e+00  0.00000000e+00  0.00000000e+00\n",
      "  0.00000000e+00  0.00000000e+00  5.75471878e+00 -1.00000000e+00\n",
      "  5.55726624e+00  0.00000000e+00  1.00000000e+00  0.00000000e+00\n",
      " -1.68164849e-01]\n",
      "States have length: 33\n"
     ]
    },
    {
     "output_type": "stream",
     "name": "stderr",
     "text": [
      "C:\\ProgramData\\Anaconda3\\envs\\drlnd\\lib\\site-packages\\torch\\cuda\\__init__.py:114: UserWarning: \n",
      "    Found GPU0 Tesla T4 which requires CUDA_VERSION >= 9000 for\n",
      "     optimal performance and fast startup time, but your PyTorch was compiled\n",
      "     with CUDA_VERSION 8000. Please install the correct PyTorch binary\n",
      "     using instructions from http://pytorch.org\n",
      "    \n",
      "  warnings.warn(incorrect_binary_warn % (d, name, 9000, CUDA_VERSION))\n"
     ]
    }
   ],
   "metadata": {}
  },
  {
   "cell_type": "markdown",
   "source": [
    "Below is the function for learning the agent , based on ddpg ( Deep Deterministic Policy Gradients ) algorithm."
   ],
   "metadata": {}
  },
  {
   "cell_type": "code",
   "execution_count": 2,
   "source": [
    "scores = [] \t\t\t\t\t\t\t\t\t\t\t\t\t # initialize the score \r\n",
    "scores_window = deque(maxlen = 100) \r\n",
    "                          \r\n",
    "def ddpgLearn(n_episodes = 500, max_t = 1000):\r\n",
    "\r\n",
    "    for episode in range(n_episodes):\r\n",
    "        env_info = env.reset(train_mode=True)[brain_name]            # reset the environment\r\n",
    "        states = env_info.vector_observations\r\n",
    "        agent.reset()                                                # reset the agent noise\r\n",
    "        score = np.zeros(n_agents)\r\n",
    "        \r\n",
    "        while True:\r\n",
    "            actions = agent.act(states)\r\n",
    "        \r\n",
    "            env_info = env.step( actions )[brain_name]               # send the action to the environment                            \r\n",
    "            next_states = env_info.vector_observations               # get the next state        \r\n",
    "            rewards = env_info.rewards                               # get the reward        \r\n",
    "            dones = env_info.local_done                              # see if episode has finished        \r\n",
    "\r\n",
    "            agent.step(states, actions, rewards, next_states, dones)\r\n",
    "\r\n",
    "            score += rewards                                         # update the score\r\n",
    "        \r\n",
    "            states = next_states                                     # roll over the state to next time step        \r\n",
    "                                                        \r\n",
    "            if np.any( dones ):                                      # exit loop if episode finished        \r\n",
    "                break                                        \r\n",
    "\r\n",
    "        agent.checkpoint()\r\n",
    "\r\n",
    "        scores.append(np.mean(score))\r\n",
    "        scores_window.append(np.mean(score))\r\n",
    "\r\n",
    "        if episode % 10:\r\n",
    "            print('\\nEpisode: \\t{} \\tScore: \\t{:.2f} \\tAverage Score: \\t{:.2f}'.format(episode, np.mean(score), np.mean(scores_window)), end=\"\")  \r\n",
    "\r\n",
    "        # if episode % 10:\r\n",
    "\t\t\t# torch.save(agent.actor_local.state_dict(), 'checkpoint_actor.pth')\r\n",
    "\t\t# torch.save(agent.critic_local.state_dict(), 'checkpoint_critic.pth')\r\n",
    "        \r\n",
    "        if np.mean(scores_window) >= 30.0:\r\n",
    "        \tprint('\\nEnvironment solved in {:d} episodes!\\tAverage Score: {:.2f}'.format(episode, np.mean(scores_window)))\r\n",
    "\t        break    \r\n"
   ],
   "outputs": [],
   "metadata": {}
  },
  {
   "cell_type": "markdown",
   "source": [
    "Now do the training and plot the results."
   ],
   "metadata": {}
  },
  {
   "cell_type": "code",
   "execution_count": 3,
   "source": [
    "ddpgLearn()\r\n",
    "\r\n",
    "torch.save(agent.actor_local.state_dict(), 'actormodel.pth')\r\n",
    "torch.save(agent.critic_local.state_dict(), 'criticmodel.pth')\r\n",
    "\r\n",
    "fig = plt.figure()\r\n",
    "ax = fig.add_subplot(111)\r\n",
    "plt.plot(np.arange(len(scores)), scores)\r\n",
    "plt.title('Progress of the agent over the episodes')\r\n",
    "plt.ylabel('Score')\r\n",
    "plt.xlabel('Episode #')\r\n",
    "plt.savefig('trainingplot.png')\r\n",
    "plt.show()\r\n",
    "env.close()"
   ],
   "outputs": [
    {
     "output_type": "stream",
     "name": "stdout",
     "text": [
      "\n",
      "Episode: \t1 \tScore: \t0.23 \tAverage Score: \t0.30\n",
      "Episode: \t2 \tScore: \t0.06 \tAverage Score: \t0.22\n",
      "Episode: \t3 \tScore: \t0.18 \tAverage Score: \t0.21\n",
      "Episode: \t4 \tScore: \t0.12 \tAverage Score: \t0.19\n",
      "Episode: \t5 \tScore: \t0.02 \tAverage Score: \t0.16\n",
      "Episode: \t6 \tScore: \t0.06 \tAverage Score: \t0.15\n",
      "Episode: \t7 \tScore: \t0.04 \tAverage Score: \t0.13\n",
      "Episode: \t8 \tScore: \t0.09 \tAverage Score: \t0.13\n",
      "Episode: \t9 \tScore: \t0.04 \tAverage Score: \t0.12\n",
      "Episode: \t11 \tScore: \t0.13 \tAverage Score: \t0.12\n",
      "Episode: \t12 \tScore: \t0.08 \tAverage Score: \t0.12\n",
      "Episode: \t13 \tScore: \t0.07 \tAverage Score: \t0.11\n",
      "Episode: \t14 \tScore: \t0.07 \tAverage Score: \t0.11\n",
      "Episode: \t15 \tScore: \t0.05 \tAverage Score: \t0.11\n",
      "Episode: \t16 \tScore: \t0.13 \tAverage Score: \t0.11\n",
      "Episode: \t17 \tScore: \t0.28 \tAverage Score: \t0.12\n",
      "Episode: \t18 \tScore: \t0.55 \tAverage Score: \t0.14\n",
      "Episode: \t19 \tScore: \t0.74 \tAverage Score: \t0.17\n",
      "Episode: \t21 \tScore: \t0.97 \tAverage Score: \t0.24\n",
      "Episode: \t22 \tScore: \t0.76 \tAverage Score: \t0.26\n",
      "Episode: \t23 \tScore: \t1.19 \tAverage Score: \t0.30\n",
      "Episode: \t24 \tScore: \t1.08 \tAverage Score: \t0.33\n",
      "Episode: \t25 \tScore: \t1.34 \tAverage Score: \t0.37\n",
      "Episode: \t26 \tScore: \t1.85 \tAverage Score: \t0.42\n",
      "Episode: \t27 \tScore: \t2.13 \tAverage Score: \t0.48\n",
      "Episode: \t28 \tScore: \t2.44 \tAverage Score: \t0.55\n",
      "Episode: \t29 \tScore: \t2.92 \tAverage Score: \t0.63\n",
      "Episode: \t31 \tScore: \t3.18 \tAverage Score: \t0.79\n",
      "Episode: \t32 \tScore: \t3.55 \tAverage Score: \t0.88\n",
      "Episode: \t33 \tScore: \t3.85 \tAverage Score: \t0.96\n",
      "Episode: \t34 \tScore: \t4.67 \tAverage Score: \t1.07\n",
      "Episode: \t35 \tScore: \t5.27 \tAverage Score: \t1.19\n",
      "Episode: \t36 \tScore: \t7.33 \tAverage Score: \t1.35\n",
      "Episode: \t37 \tScore: \t8.22 \tAverage Score: \t1.53\n",
      "Episode: \t38 \tScore: \t8.10 \tAverage Score: \t1.70\n",
      "Episode: \t39 \tScore: \t8.77 \tAverage Score: \t1.88\n",
      "Episode: \t41 \tScore: \t9.48 \tAverage Score: \t2.18\n",
      "Episode: \t42 \tScore: \t9.94 \tAverage Score: \t2.36\n",
      "Episode: \t43 \tScore: \t9.05 \tAverage Score: \t2.52\n",
      "Episode: \t44 \tScore: \t8.78 \tAverage Score: \t2.65\n",
      "Episode: \t45 \tScore: \t10.03 \tAverage Score: \t2.81\n",
      "Episode: \t46 \tScore: \t9.51 \tAverage Score: \t2.96\n",
      "Episode: \t47 \tScore: \t10.05 \tAverage Score: \t3.11\n",
      "Episode: \t48 \tScore: \t12.61 \tAverage Score: \t3.30\n",
      "Episode: \t49 \tScore: \t11.92 \tAverage Score: \t3.47\n",
      "Episode: \t51 \tScore: \t11.77 \tAverage Score: \t3.83\n",
      "Episode: \t52 \tScore: \t14.05 \tAverage Score: \t4.02\n",
      "Episode: \t53 \tScore: \t14.59 \tAverage Score: \t4.22\n",
      "Episode: \t54 \tScore: \t14.08 \tAverage Score: \t4.39\n",
      "Episode: \t55 \tScore: \t15.01 \tAverage Score: \t4.58\n",
      "Episode: \t56 \tScore: \t16.26 \tAverage Score: \t4.79\n",
      "Episode: \t57 \tScore: \t16.67 \tAverage Score: \t4.99\n",
      "Episode: \t58 \tScore: \t17.72 \tAverage Score: \t5.21\n",
      "Episode: \t59 \tScore: \t17.79 \tAverage Score: \t5.42\n",
      "Episode: \t61 \tScore: \t24.61 \tAverage Score: \t5.97\n",
      "Episode: \t62 \tScore: \t28.36 \tAverage Score: \t6.32\n",
      "Episode: \t63 \tScore: \t28.97 \tAverage Score: \t6.68\n",
      "Episode: \t64 \tScore: \t31.09 \tAverage Score: \t7.05\n",
      "Episode: \t65 \tScore: \t34.17 \tAverage Score: \t7.46\n",
      "Episode: \t66 \tScore: \t35.36 \tAverage Score: \t7.88\n",
      "Episode: \t67 \tScore: \t35.98 \tAverage Score: \t8.29\n",
      "Episode: \t68 \tScore: \t37.12 \tAverage Score: \t8.71\n",
      "Episode: \t69 \tScore: \t36.43 \tAverage Score: \t9.10\n",
      "Episode: \t71 \tScore: \t37.38 \tAverage Score: \t9.89\n",
      "Episode: \t72 \tScore: \t36.98 \tAverage Score: \t10.26\n",
      "Episode: \t73 \tScore: \t36.72 \tAverage Score: \t10.62\n",
      "Episode: \t74 \tScore: \t36.66 \tAverage Score: \t10.96\n",
      "Episode: \t75 \tScore: \t37.41 \tAverage Score: \t11.31\n",
      "Episode: \t76 \tScore: \t36.94 \tAverage Score: \t11.65\n",
      "Episode: \t77 \tScore: \t37.12 \tAverage Score: \t11.97\n",
      "Episode: \t78 \tScore: \t37.08 \tAverage Score: \t12.29\n",
      "Episode: \t79 \tScore: \t36.90 \tAverage Score: \t12.60\n",
      "Episode: \t81 \tScore: \t36.90 \tAverage Score: \t13.20\n",
      "Episode: \t82 \tScore: \t36.80 \tAverage Score: \t13.48\n",
      "Episode: \t83 \tScore: \t37.82 \tAverage Score: \t13.77\n",
      "Episode: \t84 \tScore: \t34.22 \tAverage Score: \t14.01\n",
      "Episode: \t85 \tScore: \t36.91 \tAverage Score: \t14.28\n",
      "Episode: \t86 \tScore: \t35.87 \tAverage Score: \t14.53\n",
      "Episode: \t87 \tScore: \t37.13 \tAverage Score: \t14.79\n",
      "Episode: \t88 \tScore: \t36.42 \tAverage Score: \t15.03\n",
      "Episode: \t89 \tScore: \t36.51 \tAverage Score: \t15.27\n",
      "Episode: \t91 \tScore: \t36.94 \tAverage Score: \t15.73\n",
      "Episode: \t92 \tScore: \t37.31 \tAverage Score: \t15.97\n",
      "Episode: \t93 \tScore: \t36.68 \tAverage Score: \t16.19\n",
      "Episode: \t94 \tScore: \t37.07 \tAverage Score: \t16.41\n",
      "Episode: \t95 \tScore: \t35.77 \tAverage Score: \t16.61\n",
      "Episode: \t96 \tScore: \t35.46 \tAverage Score: \t16.80\n",
      "Episode: \t97 \tScore: \t35.89 \tAverage Score: \t17.00\n",
      "Episode: \t98 \tScore: \t35.70 \tAverage Score: \t17.19\n",
      "Episode: \t99 \tScore: \t35.61 \tAverage Score: \t17.37\n",
      "Episode: \t101 \tScore: \t35.78 \tAverage Score: \t18.08\n",
      "Episode: \t102 \tScore: \t34.53 \tAverage Score: \t18.42\n",
      "Episode: \t103 \tScore: \t35.10 \tAverage Score: \t18.77\n",
      "Episode: \t104 \tScore: \t35.39 \tAverage Score: \t19.12\n",
      "Episode: \t105 \tScore: \t35.97 \tAverage Score: \t19.48\n",
      "Episode: \t106 \tScore: \t35.57 \tAverage Score: \t19.84\n",
      "Episode: \t107 \tScore: \t34.06 \tAverage Score: \t20.18\n",
      "Episode: \t108 \tScore: \t35.92 \tAverage Score: \t20.54\n",
      "Episode: \t109 \tScore: \t35.67 \tAverage Score: \t20.89\n",
      "Episode: \t111 \tScore: \t33.75 \tAverage Score: \t21.56\n",
      "Episode: \t112 \tScore: \t35.79 \tAverage Score: \t21.92\n",
      "Episode: \t113 \tScore: \t35.45 \tAverage Score: \t22.27\n",
      "Episode: \t114 \tScore: \t35.09 \tAverage Score: \t22.62\n",
      "Episode: \t115 \tScore: \t36.57 \tAverage Score: \t22.99\n",
      "Episode: \t116 \tScore: \t36.89 \tAverage Score: \t23.35\n",
      "Episode: \t117 \tScore: \t37.01 \tAverage Score: \t23.72\n",
      "Episode: \t118 \tScore: \t36.24 \tAverage Score: \t24.08\n",
      "Episode: \t119 \tScore: \t35.69 \tAverage Score: \t24.43\n",
      "Episode: \t121 \tScore: \t32.62 \tAverage Score: \t25.07\n",
      "Episode: \t122 \tScore: \t36.02 \tAverage Score: \t25.43\n",
      "Episode: \t123 \tScore: \t35.08 \tAverage Score: \t25.77\n",
      "Episode: \t124 \tScore: \t36.02 \tAverage Score: \t26.12\n",
      "Episode: \t125 \tScore: \t36.15 \tAverage Score: \t26.46\n",
      "Episode: \t126 \tScore: \t36.47 \tAverage Score: \t26.81\n",
      "Episode: \t127 \tScore: \t36.26 \tAverage Score: \t27.15\n",
      "Episode: \t128 \tScore: \t37.89 \tAverage Score: \t27.51\n",
      "Episode: \t129 \tScore: \t36.04 \tAverage Score: \t27.84\n",
      "Episode: \t131 \tScore: \t36.68 \tAverage Score: \t28.50\n",
      "Episode: \t132 \tScore: \t35.68 \tAverage Score: \t28.82\n",
      "Episode: \t133 \tScore: \t34.69 \tAverage Score: \t29.13\n",
      "Episode: \t134 \tScore: \t35.27 \tAverage Score: \t29.43\n",
      "Episode: \t135 \tScore: \t35.25 \tAverage Score: \t29.73\n",
      "Episode: \t136 \tScore: \t36.26 \tAverage Score: \t30.02\n",
      "Environment solved in 136 episodes!\tAverage Score: 30.02\n"
     ]
    },
    {
     "output_type": "display_data",
     "data": {
      "text/plain": [
       "<Figure size 432x288 with 1 Axes>"
      ],
      "image/png": "[encoded data removed]"
     },
     "metadata": {
      "needs_background": "light"
     }
    }
   ],
   "metadata": {}
  }
 ],
 "metadata": {
  "kernelspec": {
   "name": "python3",
   "display_name": "Python 3.6.9 64-bit ('drlnd': conda)"
  },
  "language_info": {
   "codemirror_mode": {
    "name": "ipython",
    "version": 3
   },
   "file_extension": ".py",
   "mimetype": "text/x-python",
   "name": "python",
   "nbconvert_exporter": "python",
   "pygments_lexer": "ipython3",
   "version": "3.6.9"
  },
  "interpreter": {
   "hash": "9fc941ae741b42bd5ee8860c2b645f74526ceb53039a7206b8cef08e93469443"
  }
 },
 "nbformat": 4,
 "nbformat_minor": 2
}